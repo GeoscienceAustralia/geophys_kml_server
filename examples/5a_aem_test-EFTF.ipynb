{
 "cells": [
  {
   "cell_type": "code",
   "execution_count": 1,
   "metadata": {},
   "outputs": [],
   "source": [
    "%matplotlib inline"
   ]
  },
  {
   "cell_type": "code",
   "execution_count": 2,
   "metadata": {},
   "outputs": [],
   "source": [
    "import os\n",
    "import netCDF4\n",
    "import numpy as np\n",
    "import math\n",
    "from scipy.interpolate import griddata\n",
    "import matplotlib.pyplot as plt\n",
    "from skimage import exposure\n",
    "from geophys_utils import NetCDFGridUtils\n",
    "from geophys_utils import NetCDFLineUtils\n",
    "from geophys_utils import get_gdal_wcs_dataset, get_gdal_grid_values\n",
    "from geophys_utils import get_spatial_ref_from_wkt, get_coordinate_transformation, get_utm_wkt, transform_coords\n",
    "from geophys_utils._transect_utils import line_length, point_along_line, utm_coords, coords2distance, sample_transect"
   ]
  },
  {
   "cell_type": "code",
   "execution_count": 3,
   "metadata": {},
   "outputs": [],
   "source": [
    "aem_nc_path = \"D:\\\\Temp\\\\AEM Data\\\\AusAEM_Year1_Tranche1_Final_CND.nc\"\n",
    "if not os.path.isfile(aem_nc_path):\n",
    "    aem_nc_path = 'http://dapds00.nci.org.au/thredds/dodsC/uc0/rr2_dev/axi547/aem/AusAEM_Year1_Tranche1_Final_CND.nc'"
   ]
  },
  {
   "cell_type": "code",
   "execution_count": 4,
   "metadata": {},
   "outputs": [],
   "source": [
    "aem_nc_dataset = netCDF4.Dataset(aem_nc_path)"
   ]
  },
  {
   "cell_type": "code",
   "execution_count": 5,
   "metadata": {},
   "outputs": [],
   "source": [
    "netcdf_line_utils = NetCDFLineUtils(aem_nc_dataset)"
   ]
  },
  {
   "cell_type": "code",
   "execution_count": 6,
   "metadata": {},
   "outputs": [
    {
     "data": {
      "text/plain": [
       "array([1010001, 1010002, 1010003, 1010004, 1020001, 1020002, 1020003,\n",
       "       1030001, 1030002, 1030003, 1030004, 1040001, 1040002, 1050001,\n",
       "       1050002, 1050003, 1060001, 1060002, 1060003, 1070001, 1070002,\n",
       "       1080001, 1080002, 1090001, 1090002, 1100001, 1100002, 1110001,\n",
       "       1110002, 1110003, 1120001, 1120002, 1130001, 1130002, 1140001,\n",
       "       1140002, 1140003, 1150001, 1150002, 1150003, 1150004, 1160001,\n",
       "       1160002, 1170001, 1170002, 1180001, 1190001, 1200001, 1200002,\n",
       "       1210001, 1220001, 1220002, 1230001, 1230002, 1240001, 1240002,\n",
       "       1250001, 1250002])"
      ]
     },
     "execution_count": 6,
     "metadata": {},
     "output_type": "execute_result"
    }
   ],
   "source": [
    "netcdf_line_utils.line[:]"
   ]
  },
  {
   "cell_type": "code",
   "execution_count": 7,
   "metadata": {},
   "outputs": [
    {
     "data": {
      "text/plain": [
       "35648"
      ]
     },
     "execution_count": 7,
     "metadata": {},
     "output_type": "execute_result"
    }
   ],
   "source": [
    "line_no = 1090002 \n",
    "line_no, line_mask = next(netcdf_line_utils.get_line_masks(1090002))\n",
    "np.count_nonzero(line_mask)"
   ]
  },
  {
   "cell_type": "code",
   "execution_count": 8,
   "metadata": {},
   "outputs": [],
   "source": [
    "# Create array of UTM coordinate pairs for all points in selected line\n",
    "utm_wkt, full_utm_coords = netcdf_line_utils.utm_coords(netcdf_line_utils.xycoords)\n",
    "utm_coordinates = full_utm_coords[line_mask]"
   ]
  },
  {
   "cell_type": "code",
   "execution_count": 9,
   "metadata": {},
   "outputs": [
    {
     "data": {
      "text/plain": [
       "array([0.00000000e+00, 1.12353558e+01, 2.24816669e+01, ...,\n",
       "       4.13951419e+05, 4.13964381e+05, 4.13977336e+05])"
      ]
     },
     "execution_count": 9,
     "metadata": {},
     "output_type": "execute_result"
    }
   ],
   "source": [
    "# Compute cumulative distance along line for each point\n",
    "distances = coords2distance(utm_coordinates)\n",
    "distances"
   ]
  },
  {
   "cell_type": "code",
   "execution_count": 10,
   "metadata": {},
   "outputs": [
    {
     "data": {
      "text/plain": [
       "array([[ 268.2    ,  263.2    ,  258.2    , ..., -216.79999, -221.79999,\n",
       "        -226.79999],\n",
       "       [ 268.15   ,  263.15   ,  258.15   , ..., -216.85   , -221.85   ,\n",
       "        -226.85   ],\n",
       "       [ 268.09   ,  263.09   ,  258.09   , ..., -216.91   , -221.91   ,\n",
       "        -226.91   ],\n",
       "       ...,\n",
       "       [ 195.68   ,  190.68   ,  185.68   , ..., -289.32   , -294.32   ,\n",
       "        -299.32   ],\n",
       "       [ 195.39   ,  190.39   ,  185.39   , ..., -289.61   , -294.61   ,\n",
       "        -299.61   ],\n",
       "       [ 195.09   ,  190.09   ,  185.09   , ..., -289.91   , -294.91   ,\n",
       "        -299.91   ]], dtype=float32)"
      ]
     },
     "execution_count": 10,
     "metadata": {},
     "output_type": "execute_result"
    }
   ],
   "source": [
    "# Obtain top elevation for each layer at each point\n",
    "layer_top_elevations = np.repeat(aem_nc_dataset.variables['dtm'][line_mask][:, np.newaxis], \n",
    "                                 aem_nc_dataset.variables['cond_xz_depth'].shape[1], \n",
    "                                 axis=1) + aem_nc_dataset.variables['cond_xz_depth'][line_mask]\n",
    "layer_top_elevations"
   ]
  },
  {
   "cell_type": "code",
   "execution_count": 11,
   "metadata": {},
   "outputs": [
    {
     "data": {
      "text/plain": [
       "array([[1.0000e-02, 1.0000e-02, 6.6440e+00, ..., 2.1656e+01, 3.9098e+01,\n",
       "        1.1995e+01],\n",
       "       [1.0000e-02, 1.0000e-02, 6.6440e+00, ..., 3.9098e+01, 2.1656e+01,\n",
       "        1.1995e+01],\n",
       "       [1.0000e-02, 1.0000e-02, 6.6440e+00, ..., 2.1656e+01, 2.1656e+01,\n",
       "        6.6440e+00],\n",
       "       ...,\n",
       "       [1.0000e-02, 1.0000e-02, 6.6440e+00, ..., 6.6440e+00, 3.6800e+00,\n",
       "        3.6800e+00],\n",
       "       [1.0000e-02, 1.0000e-02, 6.6440e+00, ..., 6.6440e+00, 1.1995e+01,\n",
       "        1.1290e+00],\n",
       "       [1.0000e-02, 1.0000e-02, 6.6440e+00, ..., 2.1656e+01, 1.1995e+01,\n",
       "        6.6440e+00]], dtype=float32)"
      ]
     },
     "execution_count": 11,
     "metadata": {},
     "output_type": "execute_result"
    }
   ],
   "source": [
    "# Obtain conductivity for each layer at each point\n",
    "layer_conductivities = aem_nc_dataset.variables['cond_xz'][line_mask]\n",
    "layer_conductivities"
   ]
  },
  {
   "cell_type": "code",
   "execution_count": 12,
   "metadata": {},
   "outputs": [],
   "source": [
    "# Number of subdivisions for each layer for interpolation. \n",
    "# Note that transition between adjacent layer values will occur in lowest subdivision of uppermost layer\n",
    "layer_subdivisions = 2"
   ]
  },
  {
   "cell_type": "code",
   "execution_count": 13,
   "metadata": {},
   "outputs": [],
   "source": [
    "# Complete elevation array for layer samples indexed by point and layer\n",
    "sublayer_elevations = np.ones(shape=(layer_top_elevations.shape[0], layer_top_elevations.shape[1]*layer_subdivisions), \n",
    "                          dtype=layer_top_elevations.dtype) * np.NaN"
   ]
  },
  {
   "cell_type": "code",
   "execution_count": 14,
   "metadata": {},
   "outputs": [],
   "source": [
    "# Complete conductivity array for layer samples indexed by point and layer\n",
    "sublayer_conductivities = np.ones(shape=(layer_top_elevations.shape[0], layer_top_elevations.shape[1]*layer_subdivisions), \n",
    "                                  dtype=layer_conductivities.dtype) * np.NaN"
   ]
  },
  {
   "cell_type": "code",
   "execution_count": 15,
   "metadata": {},
   "outputs": [],
   "source": [
    "# Array of maximum elevations for each point\n",
    "max_elevation = np.nanmax(layer_top_elevations, axis=1)"
   ]
  },
  {
   "cell_type": "code",
   "execution_count": 16,
   "metadata": {},
   "outputs": [],
   "source": [
    "# Array of minimum elevations for each point\n",
    "min_elevation = np.ones(shape=(layer_top_elevations.shape[0],), \n",
    "                        dtype=layer_top_elevations.dtype) * np.NaN"
   ]
  },
  {
   "cell_type": "code",
   "execution_count": 17,
   "metadata": {},
   "outputs": [],
   "source": [
    "# Sub-sample layers for later interpolation. Remember minimum valid elevation for each point\n",
    "for point_index in range(layer_top_elevations.shape[0]):\n",
    "    for layer_index in range(layer_top_elevations.shape[1]):\n",
    "        try:\n",
    "            layer_thickness = layer_top_elevations[point_index, layer_index] - layer_top_elevations[point_index, layer_index + 1]\n",
    "        except:\n",
    "            break\n",
    "            \n",
    "        if np.isnan(layer_conductivities[point_index, layer_index]):\n",
    "            break\n",
    "            \n",
    "        #print(layer_top_elevations[point_index, layer_index], layer_thickness, layer_conductivities[point_index, layer_index])\n",
    "        min_elevation[point_index] = layer_top_elevations[point_index, layer_index + 1]\n",
    "        \n",
    "        for sublayer_index in range(layer_subdivisions):\n",
    "            sublayer_elevations[point_index, layer_index*layer_subdivisions+sublayer_index] = layer_top_elevations[point_index, layer_index] - sublayer_index * layer_thickness / layer_subdivisions \n",
    "            sublayer_conductivities[point_index, layer_index*layer_subdivisions+sublayer_index] = layer_conductivities[point_index, layer_index]"
   ]
  },
  {
   "cell_type": "code",
   "execution_count": 18,
   "metadata": {},
   "outputs": [
    {
     "name": "stdout",
     "output_type": "stream",
     "text": [
      "-124.45999\n",
      "-304.53\n"
     ]
    },
    {
     "data": {
      "text/plain": [
       "array([-226.79999, -226.85   , -226.91   , ..., -299.32   , -299.61   ,\n",
       "       -299.91   ], dtype=float32)"
      ]
     },
     "execution_count": 18,
     "metadata": {},
     "output_type": "execute_result"
    }
   ],
   "source": [
    "# Display max/min elevation values\n",
    "print(np.nanmax(min_elevation))\n",
    "print(np.nanmin(min_elevation))\n",
    "min_elevation"
   ]
  },
  {
   "cell_type": "code",
   "execution_count": 19,
   "metadata": {},
   "outputs": [],
   "source": [
    "# Create complete 2D grid of sub-layer point distances for every point/layer - needed for interpolation\n",
    "point_distances = np.ones(shape=(layer_top_elevations.shape[0], layer_top_elevations.shape[1]*layer_subdivisions), \n",
    "                                  dtype=layer_top_elevations.dtype) * np.NaN\n",
    "for depth_index in range(point_distances.shape[1]):\n",
    "    point_distances[:,depth_index] = distances\n",
    "#point_distances"
   ]
  },
  {
   "cell_type": "code",
   "execution_count": 20,
   "metadata": {},
   "outputs": [],
   "source": [
    "# Obtain good data mask to discard invalid layer samples\n",
    "good_data_mask = np.logical_and(~np.isnan(sublayer_elevations), ~np.isnan(sublayer_conductivities))\n",
    "#good_data_mask"
   ]
  },
  {
   "cell_type": "code",
   "execution_count": 21,
   "metadata": {},
   "outputs": [
    {
     "data": {
      "text/plain": [
       "(7058304, 2)"
      ]
     },
     "execution_count": 21,
     "metadata": {},
     "output_type": "execute_result"
    }
   ],
   "source": [
    "# Discard invalid points and store distance/elevation coordinates in dense 2D array\n",
    "point_distance_elevation = np.ones(shape=(np.count_nonzero(good_data_mask), 2), \n",
    "                                  dtype=layer_top_elevations.dtype) * np.NaN\n",
    "point_distance_elevation[:,0] = point_distances[good_data_mask]\n",
    "point_distance_elevation[:,1] = sublayer_elevations[good_data_mask]\n",
    "point_distance_elevation.shape"
   ]
  },
  {
   "cell_type": "code",
   "execution_count": 22,
   "metadata": {},
   "outputs": [
    {
     "data": {
      "text/plain": [
       "array([1.0000e-02, 1.0000e-02, 1.0000e-02, ..., 2.1656e+01, 1.1995e+01,\n",
       "       1.1995e+01], dtype=float32)"
      ]
     },
     "execution_count": 22,
     "metadata": {},
     "output_type": "execute_result"
    }
   ],
   "source": [
    "# Discard invalid conductivity points\n",
    "point_conductivity = sublayer_conductivities[good_data_mask]\n",
    "point_conductivity"
   ]
  },
  {
   "cell_type": "code",
   "execution_count": 23,
   "metadata": {},
   "outputs": [
    {
     "data": {
      "text/plain": [
       "(0.0, 413980.0)"
      ]
     },
     "execution_count": 23,
     "metadata": {},
     "output_type": "execute_result"
    }
   ],
   "source": [
    "# Compute distance range for bitmap\n",
    "distance_range = (math.floor(min(point_distance_elevation[:,0]) / 10.0) * 10.0, \n",
    "                   math.ceil(max(point_distance_elevation[:,0]) / 10.0) * 10.0)\n",
    "distance_range"
   ]
  },
  {
   "cell_type": "code",
   "execution_count": 24,
   "metadata": {},
   "outputs": [
    {
     "data": {
      "text/plain": [
       "(-310.0, 380.0)"
      ]
     },
     "execution_count": 24,
     "metadata": {},
     "output_type": "execute_result"
    }
   ],
   "source": [
    "# Compute elevation range for bitmap\n",
    "elevation_range = (math.floor(min(point_distance_elevation[:,1]) / 10.0) * 10.0, \n",
    "                   math.ceil(max(point_distance_elevation[:,1]) / 10.0) * 10.0)\n",
    "elevation_range"
   ]
  },
  {
   "cell_type": "code",
   "execution_count": 25,
   "metadata": {},
   "outputs": [],
   "source": [
    "# Compute regular grid for resampling\n",
    "resampling_method = 'linear'\n",
    "\n",
    "xres = 100.0 # 10m/pixel horizontally\n",
    "yres = 1.0 # 1m/pixel vertically\n",
    "\n",
    "grid_y, grid_x = np.mgrid[elevation_range[1]:elevation_range[0]:-yres, \n",
    "                          distance_range[0]:distance_range[1]:xres]\n",
    "#print(grid_y, grid_x)"
   ]
  },
  {
   "cell_type": "code",
   "execution_count": 26,
   "metadata": {},
   "outputs": [
    {
     "data": {
      "text/plain": [
       "array([268.20001221, 267.8531358 , 267.89001465, ..., 199.28593278,\n",
       "       198.24189455, 196.60434856])"
      ]
     },
     "execution_count": 26,
     "metadata": {},
     "output_type": "execute_result"
    }
   ],
   "source": [
    "# Compute interpolated 1D array of maximum valid elevation values for each X\n",
    "max_elevation_grid = griddata(point_distances[:,0],\n",
    "                              max_elevation,\n",
    "                              grid_x[0], \n",
    "                              method=resampling_method)\n",
    "max_elevation_grid"
   ]
  },
  {
   "cell_type": "code",
   "execution_count": 27,
   "metadata": {},
   "outputs": [
    {
     "data": {
      "text/plain": [
       "array([-226.79998779, -227.1468642 , -227.10998535, ..., -295.71407472,\n",
       "       -296.75809427, -298.39566637])"
      ]
     },
     "execution_count": 27,
     "metadata": {},
     "output_type": "execute_result"
    }
   ],
   "source": [
    "# Compute interpolated 1D array of minimum valid elevation values for each X\n",
    "min_elevation_grid = griddata(point_distances[:,0],\n",
    "                              min_elevation,\n",
    "                              grid_x[0], \n",
    "                              method=resampling_method)\n",
    "min_elevation_grid"
   ]
  },
  {
   "cell_type": "code",
   "execution_count": null,
   "metadata": {},
   "outputs": [],
   "source": [
    "# Resample point-wise conductivity into regular grid for bitmap\n",
    "conductivity_grid = griddata(point_distance_elevation[:,::-1],\n",
    "         point_conductivity,\n",
    "         (grid_y, grid_x), \n",
    "         method=resampling_method)\n",
    "conductivity_grid.shape"
   ]
  },
  {
   "cell_type": "code",
   "execution_count": null,
   "metadata": {},
   "outputs": [],
   "source": [
    "# Purge interpolated values for all elevations < minimum valid elevation\n",
    "bad_data_mask = np.logical_or(grid_y < np.repeat(min_elevation_grid[np.newaxis, :], \n",
    "                                      grid_y.shape[0], \n",
    "                                      axis=0),\n",
    "                              grid_y > np.repeat(max_elevation_grid[np.newaxis, :], \n",
    "                                                 grid_y.shape[0], \n",
    "                                                 axis=0)\n",
    "                              )\n",
    "\n",
    "conductivity_grid[bad_data_mask] = np.NaN"
   ]
  },
  {
   "cell_type": "code",
   "execution_count": null,
   "metadata": {},
   "outputs": [],
   "source": [
    "# Availabole cmap values for imshow:\n",
    "# Accent, Accent_r, Blues, Blues_r, BrBG, BrBG_r, BuGn, BuGn_r, BuPu, BuPu_r, CMRmap, CMRmap_r, Dark2, Dark2_r, GnBu, GnBu_r, Greens, Greens_r, Greys, Greys_r, OrRd, OrRd_r, Oranges, Oranges_r, PRGn, PRGn_r, Paired, Paired_r, Pastel1, Pastel1_r, Pastel2, Pastel2_r, PiYG, PiYG_r, PuBu, PuBuGn, PuBuGn_r, PuBu_r, PuOr, PuOr_r, PuRd, PuRd_r, Purples, Purples_r, RdBu, RdBu_r, RdGy, RdGy_r, RdPu, RdPu_r, RdYlBu, RdYlBu_r, RdYlGn, RdYlGn_r, Reds, Reds_r, Set1, Set1_r, Set2, Set2_r, Set3, Set3_r, Spectral, Spectral_r, Wistia, Wistia_r, YlGn, YlGnBu, YlGnBu_r, YlGn_r, YlOrBr, YlOrBr_r, YlOrRd, YlOrRd_r, afmhot, afmhot_r, autumn, autumn_r, binary, binary_r, bone, bone_r, brg, brg_r, bwr, bwr_r, cool, cool_r, coolwarm, coolwarm_r, copper, copper_r, cubehelix, cubehelix_r, flag, flag_r, gist_earth, gist_earth_r, gist_gray, gist_gray_r, gist_heat, gi"
   ]
  },
  {
   "cell_type": "code",
   "execution_count": null,
   "metadata": {},
   "outputs": [],
   "source": [
    "# Plot linear colour stretch\n",
    "plt.figure(figsize=(30,20))    \n",
    "plt.imshow(conductivity_grid, \n",
    "           extent=(distance_range[0], distance_range[1], elevation_range[0], elevation_range[1]),\n",
    "           aspect='auto',\n",
    "           cmap='Spectral_r')"
   ]
  },
  {
   "cell_type": "code",
   "execution_count": null,
   "metadata": {},
   "outputs": [],
   "source": [
    "# Plot logarithmic colour stretch (linear stretch on log values)\n",
    "plt.figure(figsize=(30,20))    \n",
    "plt.imshow(np.log(conductivity_grid), \n",
    "           extent=(distance_range[0], distance_range[1], elevation_range[0], elevation_range[1]),\n",
    "           aspect='auto',\n",
    "           cmap='Spectral_r')"
   ]
  },
  {
   "cell_type": "code",
   "execution_count": null,
   "metadata": {},
   "outputs": [],
   "source": [
    "# Plot histogram equalised colour stretch\n",
    "# Substitute minimum value for NaN values to allow histogram equalisation to work\n",
    "def histogram_equalise(data_array, fill_value):\n",
    "    filled_grid = np.array(data_array)\n",
    "    filled_grid[np.isnan(filled_grid)] = np.nanmin(filled_grid)\n",
    "    histogram_grid = exposure.equalize_hist(filled_grid)\n",
    "    histogram_grid[np.isnan(data_array)] = np.NaN\n",
    "    return histogram_grid\n",
    "\n",
    "\n",
    "plt.figure(figsize=(30,20))    \n",
    "plt.imshow(histogram_equalise(conductivity_grid, np.nanmin(conductivity_grid)), \n",
    "           extent=(distance_range[0], distance_range[1], elevation_range[0], elevation_range[1]),\n",
    "           aspect='auto',\n",
    "           cmap='Spectral_r')"
   ]
  },
  {
   "cell_type": "code",
   "execution_count": null,
   "metadata": {},
   "outputs": [],
   "source": []
  }
 ],
 "metadata": {
  "anaconda-cloud": {},
  "kernelspec": {
   "display_name": "Python 3",
   "language": "python",
   "name": "python3"
  },
  "language_info": {
   "codemirror_mode": {
    "name": "ipython",
    "version": 3
   },
   "file_extension": ".py",
   "mimetype": "text/x-python",
   "name": "python",
   "nbconvert_exporter": "python",
   "pygments_lexer": "ipython3",
   "version": "3.6.6"
  }
 },
 "nbformat": 4,
 "nbformat_minor": 1
}
