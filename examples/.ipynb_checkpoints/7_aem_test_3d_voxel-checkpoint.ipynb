{
 "cells": [
  {
   "cell_type": "code",
   "execution_count": 1,
   "metadata": {
    "collapsed": true
   },
   "outputs": [],
   "source": [
    "%matplotlib inline"
   ]
  },
  {
   "cell_type": "code",
   "execution_count": 2,
   "metadata": {
    "collapsed": true
   },
   "outputs": [],
   "source": [
    "import os\n",
    "import netCDF4\n",
    "import numpy as np\n",
    "import math\n",
    "from scipy.interpolate import griddata\n",
    "import matplotlib.pyplot as plt\n",
    "import gc\n",
    "from geophys_utils import NetCDFGridUtils\n",
    "from geophys_utils import NetCDFLineUtils\n",
    "from geophys_utils import get_gdal_wcs_dataset, get_gdal_grid_values\n",
    "from geophys_utils import get_spatial_ref_from_wkt, get_coordinate_transformation, get_utm_wkt, transform_coords\n",
    "from geophys_utils._transect_utils import line_length, point_along_line, utm_coords, coords2distance, sample_transect"
   ]
  },
  {
   "cell_type": "code",
   "execution_count": 3,
   "metadata": {
    "collapsed": true
   },
   "outputs": [],
   "source": [
    "# Setup proxy as required\n",
    "GA_STAFF_WIFI = False\n",
    "\n",
    "if GA_STAFF_WIFI:\n",
    "    os.environ['http_proxy'] = 'http://proxy.inno.lan:3128'\n",
    "    os.environ['https_proxy'] = 'http://proxy.inno.lan:3128'"
   ]
  },
  {
   "cell_type": "code",
   "execution_count": 4,
   "metadata": {
    "collapsed": false
   },
   "outputs": [],
   "source": [
    "aem_nc_path = '/g/data2/uc0/rr2_dev/rcb547/AEM_examples/AUS_10008_WestK_LCI.nc'\n",
    "if not os.path.isfile(aem_nc_path):\n",
    "    aem_nc_path = 'http://dapds00.nci.org.au/thredds/dodsC/uc0/rr2_dev/rcb547/AEM_examples/AUS_10008_WestK_LCI.nc'"
   ]
  },
  {
   "cell_type": "code",
   "execution_count": 5,
   "metadata": {
    "collapsed": false
   },
   "outputs": [],
   "source": [
    "aem_nc_dataset = netCDF4.Dataset(aem_nc_path)"
   ]
  },
  {
   "cell_type": "code",
   "execution_count": 6,
   "metadata": {
    "collapsed": false
   },
   "outputs": [
    {
     "data": {
      "text/plain": [
       "'GEOGCS[\"GDA94\",DATUM[\"Geocentric_Datum_of_Australia_1994\",SPHEROID[\"GRS 1980\",6378137,298.257222101,AUTHORITY[\"EPSG\",\"7019\"]],TOWGS84[0,0,0,0,0,0,0],AUTHORITY[\"EPSG\",\"6283\"]],PRIMEM[\"Greenwich\",0,AUTHORITY[\"EPSG\",\"8901\"]],UNIT[\"degree\",0.0174532925199433,AUTHORITY[\"EPSG\",\"9122\"]],AUTHORITY[\"EPSG\",\"4283\"]]'"
      ]
     },
     "execution_count": 6,
     "metadata": {},
     "output_type": "execute_result"
    }
   ],
   "source": [
    "# The CRS definition in the file is INCORRECT in the test file! It specifies degrees, not metres.\n",
    "bad_wkt = get_spatial_ref_from_wkt(aem_nc_dataset.variables['crs'].epsg_code).ExportToWkt()\n",
    "bad_wkt"
   ]
  },
  {
   "cell_type": "code",
   "execution_count": 7,
   "metadata": {
    "collapsed": false
   },
   "outputs": [
    {
     "data": {
      "text/plain": [
       "'PROJCS[\"UTM Zone 51, Southern Hemisphere\",GEOGCS[\"WGS 84\",DATUM[\"WGS_1984\",SPHEROID[\"WGS 84\",6378137,298.257223563,AUTHORITY[\"EPSG\",\"7030\"]],TOWGS84[0,0,0,0,0,0,0],AUTHORITY[\"EPSG\",\"6326\"]],PRIMEM[\"Greenwich\",0,AUTHORITY[\"EPSG\",\"8901\"]],UNIT[\"degree\",0.0174532925199433,AUTHORITY[\"EPSG\",\"9108\"]],AUTHORITY[\"EPSG\",\"4326\"]],PROJECTION[\"Transverse_Mercator\"],PARAMETER[\"latitude_of_origin\",0],PARAMETER[\"central_meridian\",123],PARAMETER[\"scale_factor\",0.9996],PARAMETER[\"false_easting\",500000],PARAMETER[\"false_northing\",10000000],UNIT[\"Meter\",1]]'"
      ]
     },
     "execution_count": 7,
     "metadata": {},
     "output_type": "execute_result"
    }
   ],
   "source": [
    "# Get the WKT for the right CRS (even though we don't actually need it)\n",
    "utm_wkt = get_utm_wkt((123.4, -18.01), 'EPSG:4326') # Coordinate in area of interest read from Google Earth\n",
    "utm_wkt"
   ]
  },
  {
   "cell_type": "code",
   "execution_count": 8,
   "metadata": {
    "collapsed": false
   },
   "outputs": [
    {
     "data": {
      "text/plain": [
       "206189"
      ]
     },
     "execution_count": 8,
     "metadata": {},
     "output_type": "execute_result"
    }
   ],
   "source": [
    "point_count = aem_nc_dataset.variables['point'].shape[0]\n",
    "point_count"
   ]
  },
  {
   "cell_type": "code",
   "execution_count": null,
   "metadata": {
    "collapsed": false
   },
   "outputs": [
    {
     "data": {
      "text/plain": [
       "30"
      ]
     },
     "execution_count": 9,
     "metadata": {},
     "output_type": "execute_result"
    }
   ],
   "source": [
    "layer_count = aem_nc_dataset.variables['layers'].shape[0]\n",
    "layer_count"
   ]
  },
  {
   "cell_type": "code",
   "execution_count": null,
   "metadata": {
    "collapsed": false
   },
   "outputs": [
    {
     "name": "stdout",
     "output_type": "stream",
     "text": [
      "[ 2532.28662109  7347.53857422  4599.81591797 ...,    74.18398285\n",
      "    49.60316849    37.76435089]\n"
     ]
    }
   ],
   "source": [
    "# Create array of 3D coordinate triples for all points\n",
    "point_conductivity = aem_nc_dataset.variables['layer_conductivity_masked'][...].filled(np.NaN)\n",
    "good_data_mask = ~np.isnan(point_conductivity)\n",
    "point_conductivity = point_conductivity[good_data_mask].copy()\n",
    "print point_conductivity\n",
    "\n",
    "coordinates = np.ones(shape=(point_count, layer_count, 3), \n",
    "                      dtype=aem_nc_dataset.variables['easting'].dtype) * np.NaN\n",
    "\n",
    "for layer_index in range(layer_count):\n",
    "    coordinates[:,layer_index,0] = aem_nc_dataset.variables['easting'][:]\n",
    "    coordinates[:,layer_index,1] = aem_nc_dataset.variables['northing'][:]\n",
    "\n",
    "for point_index in range(point_count): # This is a bit slow - lots of points\n",
    "    coordinates[point_index,:,2] = layer_top_elevations = aem_nc_dataset.variables['layer_top_elevation'][point_index,:]\n",
    "\n",
    "coordinates = coordinates[good_data_mask,:].copy()\n",
    "print coordinates\n",
    "\n",
    "del good_data_mask\n",
    "gc.collect()"
   ]
  },
  {
   "cell_type": "code",
   "execution_count": null,
   "metadata": {
    "collapsed": false
   },
   "outputs": [],
   "source": [
    "# Compute overall ranges\n",
    "ranges = np.array(((math.floor(min(coordinates[:,0]) / 10.0) * 10.0, \n",
    "                   math.ceil(max(coordinates[:,0]) / 10.0) * 10.0),\n",
    "                  (math.floor(min(coordinates[:,1]) / 10.0) * 10.0, \n",
    "                   math.ceil(max(coordinates[:,1]) / 10.0) * 10.0),\n",
    "                  (math.floor(min(coordinates[:,2]) / 10.0) * 10.0, \n",
    "                   math.ceil(max(coordinates[:,2]) / 10.0) * 10.0)))\n",
    "print ranges"
   ]
  },
  {
   "cell_type": "code",
   "execution_count": null,
   "metadata": {
    "collapsed": false
   },
   "outputs": [],
   "source": [
    "centres = np.array([(ranges[dim_index,0] + ranges[dim_index,1]) / 2.0 for dim_index in range(3)])\n",
    "print centres"
   ]
  },
  {
   "cell_type": "code",
   "execution_count": null,
   "metadata": {
    "collapsed": false
   },
   "outputs": [],
   "source": [
    "xysize = 10000.0\n",
    "grid_ranges = np.array(((centres[0]-xysize/2.0, centres[0]+xysize/2.0), \n",
    "               (centres[1]-xysize/2.0, centres[1]+xysize/2.0),\n",
    "               (ranges[2,0], ranges[2,1])))\n",
    "grid_ranges"
   ]
  },
  {
   "cell_type": "code",
   "execution_count": null,
   "metadata": {
    "collapsed": false
   },
   "outputs": [],
   "source": [
    "spatial_mask = np.ones(shape=(coordinates.shape[0],), dtype=bool)\n",
    "print np.count_nonzero(spatial_mask)\n",
    "spatial_mask[np.where(coordinates[:,0] < grid_ranges[0,0])] = False\n",
    "print np.count_nonzero(spatial_mask)\n",
    "spatial_mask[np.where(coordinates[:,0] > grid_ranges[0,1])] = False\n",
    "print np.count_nonzero(spatial_mask)\n",
    "spatial_mask[np.where(coordinates[:,1] < grid_ranges[1,0])] = False\n",
    "print np.count_nonzero(spatial_mask)\n",
    "spatial_mask[np.where(coordinates[:,1] > grid_ranges[1,1])] = False\n",
    "print np.count_nonzero(spatial_mask)"
   ]
  },
  {
   "cell_type": "code",
   "execution_count": null,
   "metadata": {
    "collapsed": false
   },
   "outputs": [],
   "source": [
    "grid_ranges = np.array((grid_ranges[0], grid_ranges[1],(math.floor(min(coordinates[spatial_mask][:,2]) / 10.0) * 10.0, \n",
    "                   math.ceil(max(coordinates[spatial_mask][:,2]) / 10.0) * 10.0)))\n",
    "grid_ranges"
   ]
  },
  {
   "cell_type": "code",
   "execution_count": null,
   "metadata": {
    "collapsed": false
   },
   "outputs": [],
   "source": [
    "# Compute regular grid for resampling\n",
    "resampling_method = 'linear'\n",
    "\n",
    "xyres = 100.0 # 100m/pixel horizontally\n",
    "zres = 10.0 # 10m/pixel vertically\n",
    "\n",
    "grid_x, grid_y, grid_z = np.mgrid[grid_ranges[0][0]:grid_ranges[0][1]+xyres/2.0:xyres, \n",
    "                                  grid_ranges[1][0]:grid_ranges[1][1]+xyres/2.0:xyres,\n",
    "                                  grid_ranges[2][0]:grid_ranges[2][1]+zres/2.0:zres]\n",
    "#print grid_x, grid_y, grid_z "
   ]
  },
  {
   "cell_type": "code",
   "execution_count": null,
   "metadata": {
    "collapsed": false
   },
   "outputs": [],
   "source": [
    "# Resample point-wise conductivity into regular 3D grid\n",
    "conductivity_grid = griddata(coordinates[spatial_mask],\n",
    "         point_conductivity[spatial_mask],\n",
    "         (grid_x, grid_y, grid_z), \n",
    "         method=resampling_method)\n",
    "#conductivity_grid"
   ]
  },
  {
   "cell_type": "code",
   "execution_count": null,
   "metadata": {
    "collapsed": false
   },
   "outputs": [],
   "source": [
    "# Show all X values with data\n",
    "x_list = sorted(list(set(np.where(~np.isnan(conductivity_grid))[0])))"
   ]
  },
  {
   "cell_type": "code",
   "execution_count": null,
   "metadata": {
    "collapsed": false
   },
   "outputs": [],
   "source": [
    "# Plot log colour stretch\n",
    "for x in x_list:\n",
    "    plt.figure(figsize=(30,20))    \n",
    "    plt.imshow(np.log(np.transpose(conductivity_grid[x,:,::-1])), cmap='Spectral_r')"
   ]
  },
  {
   "cell_type": "code",
   "execution_count": null,
   "metadata": {
    "collapsed": true
   },
   "outputs": [],
   "source": []
  }
 ],
 "metadata": {
  "kernelspec": {
   "display_name": "Python [default]",
   "language": "python",
   "name": "python2"
  },
  "language_info": {
   "codemirror_mode": {
    "name": "ipython",
    "version": 2
   },
   "file_extension": ".py",
   "mimetype": "text/x-python",
   "name": "python",
   "nbconvert_exporter": "python",
   "pygments_lexer": "ipython2",
   "version": "2.7.12"
  }
 },
 "nbformat": 4,
 "nbformat_minor": 0
}
