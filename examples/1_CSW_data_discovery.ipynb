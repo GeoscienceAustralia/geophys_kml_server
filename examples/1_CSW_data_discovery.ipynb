{
 "cells": [
  {
   "cell_type": "code",
   "execution_count": 1,
   "metadata": {
    "collapsed": true
   },
   "outputs": [],
   "source": [
    "# %matplotlib inline"
   ]
  },
  {
   "cell_type": "code",
   "execution_count": 2,
   "metadata": {
    "collapsed": true
   },
   "outputs": [],
   "source": [
    "from geophys_utils import CSWUtils\n",
    "from geophys_utils import DataStats # https://github.com/alex-ip/geophys2netcdf/tree/develop\n",
    "import os\n",
    "import re\n",
    "from netCDF4 import Dataset\n",
    "from pprint import pprint"
   ]
  },
  {
   "cell_type": "code",
   "execution_count": 3,
   "metadata": {
    "collapsed": true
   },
   "outputs": [],
   "source": [
    "# Setup proxy as required\n",
    "GA_STAFF_WIFI = False\n",
    "\n",
    "if GA_STAFF_WIFI:\n",
    "    os.environ['http_proxy'] = 'http://proxy.inno.lan:3128'\n",
    "    os.environ['https_proxy'] = 'http://proxy.inno.lan:3128'"
   ]
  },
  {
   "cell_type": "code",
   "execution_count": 4,
   "metadata": {
    "collapsed": true
   },
   "outputs": [],
   "source": [
    "csw_url = 'https://ecat.ga.gov.au/geonetwork/srv/eng/csw' # GA's externally-facing eCat\n",
    "#csw_url = 'https://internal.ecat.ga.gov.au/geonetwork/srv/eng/csw' # GA's internally-facing eCat\n",
    "#csw_url = 'http://geonetworkrr2.nci.org.au/geonetwork/srv/eng/csw' # NCI GeoNetwork"
   ]
  },
  {
   "cell_type": "code",
   "execution_count": 5,
   "metadata": {
    "collapsed": true
   },
   "outputs": [],
   "source": [
    "# Define search parameters\n",
    "keywords = \"NCI, geoscientific%Information, grid, potassium\" # Comma-separated list of keywords for GA\n",
    "#keywords = \"NCI, National Coverage, grid\" # Comma-separated list of keywords for NCI\n",
    "allwords = \"NCI, National Coverage, grid\"\n",
    "#bounds = [110, -45, 160, -5] # Bounding box slightly larger than national coverage\n",
    "#bounds = [115, -40, 150, -10] # Bounding box slightly smaller than national coverage\n",
    "bounds = [148.996,-35.48,149.399,-35.124] # Bounding box way smaller than national coverage\n",
    "#bounds = [110, -40, 160, -10] # Bounding box slightly wider than national coverage\n",
    "#bounds = [115, -45, 150, -5] # Bounding box slightly taller than national coverage\n",
    "#bounds = [0, 0, 1, 1] # Invalid bounding box somewhere South of England\n",
    "titlewords = \"onshore, gravity, grid, Australia, 2016\"\n",
    "#titlewords = \"Joanna,Spring,uranium,profiles\"\n",
    "not_title = '%image%'"
   ]
  },
  {
   "cell_type": "code",
   "execution_count": 6,
   "metadata": {},
   "outputs": [
    {
     "name": "stdout",
     "output_type": "stream",
     "text": [
      "radmap v3 2015 filtered pct potassium grid\n",
      "\tNetCDF http://dapds00.nci.org.au/thredds/dodsC/rr2/National_Coverages/radmap_v3_2015_filtered_pctk/radmap_v3_2015_filtered_pctk.nc\n",
      "\tUUID 221dcfd8-04f4-5083-e053-10a3070a64e3\n",
      "\textent [112.7175, -43.7615, 153.6715, -9.0005]\n",
      "\tshape (34761, 40954)\n",
      "radmap v3 2015 unfiltered pct potassium grid\n",
      "\tNetCDF http://dapds00.nci.org.au/thredds/dodsC/rr2/National_Coverages/radmap_v3_2015_unfiltered_pctk/radmap_v3_2015_unfiltered_pctk.nc\n",
      "\tUUID 221dcfd8-04fc-5083-e053-10a3070a64e3\n",
      "\textent [112.7175, -43.7615, 153.6715, -9.0005]\n",
      "\tshape (34761, 40954)\n",
      "Radiometric Potassium grid of NSW DMR, Discovery 2000, Area S, Braidwood, NSW 2001 survey\n",
      "\tNetCDF http://dapds00.nci.org.au/thredds/dodsC/uc0/rr2_dev/rcb547/AWAGS_Levelled_Grids/rad_survey_grids_levelled/potassium/rNSW0756k/rNSW0756k.nc\n",
      "\tUUID 4d4eb01b-4539-4c66-ae18-73e0b5b411a0\n",
      "\textent [149.066355, -36.021368, 150.053341, -34.977687]\n",
      "\tshape (2117, 2002)\n",
      "Radiometric Potassium grid of Southeast Lachlan, NSW, 2010 survey\n",
      "\tNetCDF http://dapds00.nci.org.au/thredds/dodsC/uc0/rr2_dev/rcb547/AWAGS_Levelled_Grids/rad_survey_grids_levelled/potassium/rNSW1218k/rNSW1218k.nc\n",
      "\tUUID 7a2b84ea-65b8-419f-9503-407f9ad69932\n",
      "\textent [148.48475, -37.530639, 150.18525, -34.986139]\n",
      "\tshape (5089, 3401)\n"
     ]
    }
   ],
   "source": [
    "# Find all datasets of interest.\n",
    "#create a csw_utils object and populate the parameters with search parameters\n",
    "cswu = CSWUtils(csw_url)\n",
    "record_generator = cswu.query_csw(keyword_list=keywords,\n",
    "                                  #anytext_list=allwords,\n",
    "                                  #titleword_list=titlewords,\n",
    "                                  bounding_box=bounds,\n",
    "                                  #start_datetime=start_date,\n",
    "                                  #stop_datetime=end_date,\n",
    "                                  #max_total_records=2000\n",
    "                                  )\n",
    "\n",
    "# Access datasets and print some info\n",
    "for distribution in cswu.get_netcdf_urls(record_generator):\n",
    "    dataset = Dataset(distribution['url'])\n",
    "    data_variable = [variable for variable in dataset.variables.values() if hasattr(variable, 'grid_mapping')][0]\n",
    "    dataset_extent = [round(ordinate, 6) for ordinate in [dataset.geospatial_lon_min,\n",
    "              dataset.geospatial_lat_min,\n",
    "              dataset.geospatial_lon_max,\n",
    "              dataset.geospatial_lat_max\n",
    "             ]]\n",
    "    print '%s' % distribution['title']\n",
    "    print '\\tNetCDF %s' % (distribution['url'],)\n",
    "    print '\\tUUID %s' % (distribution['uuid'],)\n",
    "    print '\\textent %s' % (dataset_extent,)\n",
    "    print '\\tshape %s' % (data_variable.shape,)"
   ]
  },
  {
   "cell_type": "code",
   "execution_count": null,
   "metadata": {
    "collapsed": true
   },
   "outputs": [],
   "source": []
  }
 ],
 "metadata": {
  "anaconda-cloud": {},
  "kernelspec": {
   "display_name": "Python 2",
   "language": "python",
   "name": "python2"
  },
  "language_info": {
   "codemirror_mode": {
    "name": "ipython",
    "version": 2
   },
   "file_extension": ".py",
   "mimetype": "text/x-python",
   "name": "python",
   "nbconvert_exporter": "python",
   "pygments_lexer": "ipython2",
   "version": "2.7.5"
  }
 },
 "nbformat": 4,
 "nbformat_minor": 1
}
