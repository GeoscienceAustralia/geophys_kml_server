{
 "cells": [
  {
   "cell_type": "code",
   "execution_count": 15,
   "metadata": {
    "collapsed": true
   },
   "outputs": [],
   "source": [
    "%matplotlib inline"
   ]
  },
  {
   "cell_type": "code",
   "execution_count": 16,
   "metadata": {
    "collapsed": false
   },
   "outputs": [],
   "source": [
    "import os\n",
    "import netCDF4\n",
    "import numpy as np\n",
    "from geophys_utils import NetCDFGridUtils\n",
    "from geophys_utils import get_netcdf_edge_points, points2convex_hull\n",
    "import matplotlib.pyplot as plt"
   ]
  },
  {
   "cell_type": "code",
   "execution_count": 17,
   "metadata": {
    "collapsed": true
   },
   "outputs": [],
   "source": [
    "# Setup proxy as required\n",
    "GA_STAFF_WIFI = False\n",
    "\n",
    "if GA_STAFF_WIFI:\n",
    "    os.environ['http_proxy'] = 'http://proxy.inno.lan:3128'\n",
    "    os.environ['https_proxy'] = 'http://proxy.inno.lan:3128'"
   ]
  },
  {
   "cell_type": "code",
   "execution_count": null,
   "metadata": {
    "collapsed": false
   },
   "outputs": [],
   "source": [
    "# Open netCDF4 Dataset\n",
    "netcdf_path = \"/g/data1/rr2/National_Coverages/IR_gravity_anomaly_Australia_V1/IR_gravity_anomaly_Australia_V1.nc\"\n",
    "#netcdf_path = \"C:\\\\Users\\\\Alex\\\\Downloads\\\\IR_gravity_anomaly_Australia_V1.nc\"\n",
    "#netcdf_path = \"C:\\\\Users\\\\Alex\\\\Downloads\\\\IR_gravity_anomaly_Australia_V1_inverted.nc\"\n",
    "if not os.path.isfile(netcdf_path):\n",
    "    netcdf_path = \"http://dapds00.nci.org.au/thredds/dodsC/rr2/National_Coverages/IR_gravity_anomaly_Australia_V1/IR_gravity_anomaly_Australia_V1.nc\"\n",
    "\n",
    "#netcdf_path = \"/g/data1/rr2/National_Coverages/magmap_v6_2015/magmap_v6_2015.nc\"\n",
    "#if not os.path.isfile(netcdf_path):\n",
    "#    netcdf_path = \"http://dapds00.nci.org.au/thredds/dodsC/rr2/National_Coverages/magmap_v6_2015/magmap_v6_2015.nc\"\n",
    "#    netcdf_path = \"http://dapds03.nci.org.au/thredds/dodsC/rr2/National_Coverages/magmap_v6_2015/magmap_v6_2015.nc\"\n",
    "\n",
    "netcdf_dataset = netCDF4.Dataset(netcdf_path, 'r')\n",
    "\n",
    "max_bytes = 500000000\n",
    "#max_bytes = 8000000000\n",
    "\n",
    "netcdf_grid_utils = NetCDFGridUtils(netcdf_dataset)\n",
    "#netcdf_grid_utils.__dict__"
   ]
  },
  {
   "cell_type": "code",
   "execution_count": null,
   "metadata": {
    "collapsed": false
   },
   "outputs": [],
   "source": [
    "# Find edge points\n",
    "# Note that we would normally use netcdf2convex_hull to go straight to the convex hull, but we want to plot the points\n",
    "edge_points = np.array(get_netcdf_edge_points(netcdf_dataset, max_bytes=max_bytes))\n",
    "print edge_points.shape"
   ]
  },
  {
   "cell_type": "code",
   "execution_count": null,
   "metadata": {
    "collapsed": false
   },
   "outputs": [],
   "source": [
    "# Compute convex hull\n",
    "# Note that we would normally use netcdf2convex_hull to go straight to the convex hull, but we want to plot the edge points\n",
    "avg_pixel_size = (netcdf_grid_utils.pixel_size[0] + netcdf_grid_utils.pixel_size[1]) / 2.0\n",
    "convex_hull = np.array(points2convex_hull(edge_points, avg_pixel_size, avg_pixel_size))\n",
    "print convex_hull.shape"
   ]
  },
  {
   "cell_type": "code",
   "execution_count": null,
   "metadata": {
    "collapsed": false
   },
   "outputs": [],
   "source": [
    "# Obtain coordinates for sample points along transect\n",
    "# Note that sample points between vertices are computed in UTM space for linear metres\n",
    "\n",
    "#transect_vertices = ((110, -25), (155, -25))\n",
    "#transect_vertices = ((110, -25), (115, -25), (120, -25), (125, -25), (130, -25), (135, -25), (140, -25), (145, -25), (150, -25), (155, -25))\n",
    "transect_vertices = ((110, -25), (115, -25.5), (120, -26), (125, -26.5), (130, -27), (135, -27.5), (140, -28), (145, -28.5), (150, -29), (155, -29.5))\n",
    "\n",
    "sample_points, sample_spacing = netcdf_grid_utils.sample_transect(transect_vertices, 'EPSG:4326')\n",
    "print sample_spacing\n",
    "sample_points = np.array(sample_points)\n",
    "print sample_points.shape\n",
    "print sample_points"
   ]
  },
  {
   "cell_type": "code",
   "execution_count": null,
   "metadata": {
    "collapsed": false
   },
   "outputs": [],
   "source": [
    "# Obtain values for sample points\n",
    "sample_values = np.array(netcdf_grid_utils.get_value_at_coords(sample_points, 'EPSG:4326', max_bytes=100))\n",
    "print sample_values.shape"
   ]
  },
  {
   "cell_type": "code",
   "execution_count": null,
   "metadata": {
    "collapsed": false
   },
   "outputs": [],
   "source": [
    "no_data_value = netcdf_grid_utils.data_variable._FillValue\n",
    "good_data_mask = sample_values != no_data_value\n",
    "\n",
    "good_sample_points = sample_points[good_data_mask]\n",
    "bad_sample_points = sample_points[~good_data_mask]\n",
    "\n",
    "sample_values[~good_data_mask] = np.NaN"
   ]
  },
  {
   "cell_type": "code",
   "execution_count": null,
   "metadata": {
    "collapsed": false
   },
   "outputs": [],
   "source": [
    "# Plot good and bad data points\n",
    "plt.figure(figsize=(30,20))    \n",
    "plt.plot(edge_points[:,0], edge_points[:,1], 'b.')\n",
    "plt.plot(good_sample_points[:,0], good_sample_points[:,1], 'g.')\n",
    "plt.plot(bad_sample_points[:,0], bad_sample_points[:,1], 'r.')\n",
    "plt.plot(convex_hull[:,0], convex_hull[:,1], 'r-')"
   ]
  },
  {
   "cell_type": "code",
   "execution_count": null,
   "metadata": {
    "collapsed": false
   },
   "outputs": [],
   "source": [
    "# Plot values against distance along transect\n",
    "if sample_spacing >= 1000:\n",
    "    x_increment = int(sample_spacing / 1000) # convert from m to km\n",
    "else:\n",
    "    x_increment = int(sample_spacing)\n",
    "plt.figure(figsize=(30,20))    \n",
    "plt.plot(range(0,len(sample_values) * x_increment, x_increment), sample_values, 'g-') # Show x in km"
   ]
  },
  {
   "cell_type": "code",
   "execution_count": null,
   "metadata": {
    "collapsed": false
   },
   "outputs": [],
   "source": [
    "# Plot actual grid data\n",
    "plt.figure(figsize=(30,20))  \n",
    "if netcdf_grid_utils.y_inverted:\n",
    "    plt.imshow(netcdf_grid_utils.data_variable[:], cmap='Spectral_r') # Do NOT invert Y axis for conventional image\n",
    "else:\n",
    "    plt.imshow(netcdf_grid_utils.data_variable[::-1,:], cmap='Spectral_r') # Invert Y axis for conventional image    \n"
   ]
  },
  {
   "cell_type": "code",
   "execution_count": null,
   "metadata": {
    "collapsed": true
   },
   "outputs": [],
   "source": []
  }
 ],
 "metadata": {
  "anaconda-cloud": {},
  "kernelspec": {
   "display_name": "Python [default]",
   "language": "python",
   "name": "python2"
  },
  "language_info": {
   "codemirror_mode": {
    "name": "ipython",
    "version": 2
   },
   "file_extension": ".py",
   "mimetype": "text/x-python",
   "name": "python",
   "nbconvert_exporter": "python",
   "pygments_lexer": "ipython2",
   "version": "2.7.12"
  }
 },
 "nbformat": 4,
 "nbformat_minor": 0
}
