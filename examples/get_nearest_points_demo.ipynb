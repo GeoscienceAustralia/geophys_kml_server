{
 "cells": [
  {
   "cell_type": "code",
   "execution_count": 1,
   "metadata": {
    "collapsed": true
   },
   "outputs": [],
   "source": [
    "%matplotlib inline"
   ]
  },
  {
   "cell_type": "code",
   "execution_count": 2,
   "metadata": {
    "collapsed": true
   },
   "outputs": [],
   "source": [
    "import logging\n",
    "from datetime import datetime, timedelta"
   ]
  },
  {
   "cell_type": "code",
   "execution_count": 3,
   "metadata": {
    "collapsed": true
   },
   "outputs": [],
   "source": [
    "from nearest_geophys_point_finder import NearestGeophysPointFinder\n",
    "logging.getLogger('nearest_geophys_point_finder').setLevel(logging.DEBUG)"
   ]
  },
  {
   "cell_type": "code",
   "execution_count": 4,
   "metadata": {
    "collapsed": true
   },
   "outputs": [],
   "source": [
    "# Setup proxy as required\n",
    "GA_STAFF_WIFI = False\n",
    "\n",
    "if GA_STAFF_WIFI:\n",
    "    import os\n",
    "    os.environ['http_proxy'] = 'http://proxy.inno.lan:3128'\n",
    "    os.environ['https_proxy'] = 'http://proxy.inno.lan:3128'"
   ]
  },
  {
   "cell_type": "code",
   "execution_count": 5,
   "metadata": {
    "collapsed": true
   },
   "outputs": [],
   "source": [
    "def JW_metadata_filter(metadata_dict):\n",
    "    '''\n",
    "    Example function to filter datasets based on metadata values in metadata_dict\n",
    "    This version applies John Wilford's filter conditions\n",
    "    Returns True for match, False otherwise\n",
    "    '''\n",
    "    try:\n",
    "        # Reject any datasets earlier than 1981\n",
    "        if datetime.strptime(metadata_dict['acquisition_start_date'], '%d/%m/%Y') < datetime.strptime('01/01/1981', '%d/%m/%Y'):\n",
    "            return False\n",
    "            \n",
    "        # Only accept GA/BMR/AGSO datasets between 1981 and 1992\n",
    "        if (datetime.strptime(metadata_dict['acquisition_start_date'], '%d/%m/%Y') < datetime.strptime('01/01/1992', '%d/%m/%Y')\n",
    "            and metadata_dict['client'] not in ['Geoscience Australia',\n",
    "                                                'BMR',\n",
    "                                                'AGSO',\n",
    "                                                'GA'\n",
    "                                                ]\n",
    "            ):\n",
    "                return False\n",
    "    except ValueError:\n",
    "        logger.warning('WARNING: Unhandled date format: {}'.format(metadata_dict['acquisition_start_date']))\n",
    "        return False \n",
    "    \n",
    "    return True        "
   ]
  },
  {
   "cell_type": "code",
   "execution_count": 6,
   "metadata": {},
   "outputs": [
    {
     "name": "stdout",
     "output_type": "stream",
     "text": [
      "Importing metadata CSV file geophysics_line_nc_metadata.csv\n"
     ]
    }
   ],
   "source": [
    "# Instantiate NearestGeophysPointFinder\n",
    "ngpf = NearestGeophysPointFinder()"
   ]
  },
  {
   "cell_type": "code",
   "execution_count": null,
   "metadata": {
    "collapsed": true
   },
   "outputs": [],
   "source": [
    "# Set search parameters\n",
    "coordinate_list=[(149, -35), (150, -36)] # List of coordinates to search\n",
    "max_distance=0.2 # Maximum search radius in dataset native units (i.e. degrees)\n",
    "points_required=10 # Points per dataset\n",
    "keywords = ['geophysics', 'TMI'] # Keywords to match\n",
    "variable_names = ['mag_awags'] # Variables to read\n",
    "flight_lines_only=True"
   ]
  },
  {
   "cell_type": "code",
   "execution_count": null,
   "metadata": {},
   "outputs": [
    {
     "name": "stdout",
     "output_type": "stream",
     "text": [
      "Opening http://dapds00.nci.org.au/thredds/dodsC/uc0/rr2_dev/rcb547/AWAGS_Levelled_Line_Databases/awags_survey_reformat/netcdf/P1152MAG.nc\n",
      "Excluding points in tie-lines\n",
      "10 points near (149, -35) found in http://dapds00.nci.org.au/thredds/dodsC/uc0/rr2_dev/rcb547/AWAGS_Levelled_Line_Databases/awags_survey_reformat/netcdf/P1152MAG.nc\n",
      "10 points near (150, -36) found in http://dapds00.nci.org.au/thredds/dodsC/uc0/rr2_dev/rcb547/AWAGS_Levelled_Line_Databases/awags_survey_reformat/netcdf/P1152MAG.nc\n",
      "Opening http://dapds00.nci.org.au/thredds/dodsC/uc0/rr2_dev/rcb547/AWAGS_Levelled_Line_Databases/mag_database_reformat_adjusted/netcdf/GSNSW_P1218MAG.nc\n",
      "Excluding points in tie-lines\n",
      "10 points near (149, -35) found in http://dapds00.nci.org.au/thredds/dodsC/uc0/rr2_dev/rcb547/AWAGS_Levelled_Line_Databases/mag_database_reformat_adjusted/netcdf/GSNSW_P1218MAG.nc\n",
      "10 points near (150, -36) found in http://dapds00.nci.org.au/thredds/dodsC/uc0/rr2_dev/rcb547/AWAGS_Levelled_Line_Databases/mag_database_reformat_adjusted/netcdf/GSNSW_P1218MAG.nc\n",
      "Opening http://dapds00.nci.org.au/thredds/dodsC/uc0/rr2_dev/rcb547/AWAGS_Levelled_Line_Databases/mag_database_reformat_adjusted/netcdf/GSNSW_P1253MAG.nc\n",
      "Excluding points in tie-lines\n",
      "10 points near (149, -35) found in http://dapds00.nci.org.au/thredds/dodsC/uc0/rr2_dev/rcb547/AWAGS_Levelled_Line_Databases/mag_database_reformat_adjusted/netcdf/GSNSW_P1253MAG.nc\n",
      "No points near (150, -36) found in http://dapds00.nci.org.au/thredds/dodsC/uc0/rr2_dev/rcb547/AWAGS_Levelled_Line_Databases/mag_database_reformat_adjusted/netcdf/GSNSW_P1253MAG.nc\n",
      "Opening http://dapds00.nci.org.au/thredds/dodsC/uc0/rr2_dev/rcb547/AWAGS_Levelled_Line_Databases/mag_database_reformat_adjusted/netcdf/GSNSW_P746MAG.nc\n",
      "Excluding points in tie-lines\n",
      "No points near (149, -35) found in http://dapds00.nci.org.au/thredds/dodsC/uc0/rr2_dev/rcb547/AWAGS_Levelled_Line_Databases/mag_database_reformat_adjusted/netcdf/GSNSW_P746MAG.nc\n",
      "10 points near (150, -36) found in http://dapds00.nci.org.au/thredds/dodsC/uc0/rr2_dev/rcb547/AWAGS_Levelled_Line_Databases/mag_database_reformat_adjusted/netcdf/GSNSW_P746MAG.nc\n",
      "Opening http://dapds00.nci.org.au/thredds/dodsC/uc0/rr2_dev/rcb547/AWAGS_Levelled_Line_Databases/mag_database_reformat_adjusted/netcdf/GSNSW_P756MAG.nc\n",
      "Excluding points in tie-lines\n"
     ]
    }
   ],
   "source": [
    "# Find all nearest points using above parameters\n",
    "point_result_dict = ngpf.get_nearest_point_data(coordinate_list=coordinate_list,\n",
    "                                         points_required=points_required, \n",
    "                                         max_distance=max_distance,\n",
    "                                         keywords=keywords,\n",
    "                                         metadata_filter_function=JW_metadata_filter,\n",
    "                                         variable_names=variable_names,\n",
    "                                         flight_lines_only=flight_lines_only\n",
    "                                         )"
   ]
  },
  {
   "cell_type": "code",
   "execution_count": null,
   "metadata": {},
   "outputs": [],
   "source": [
    "# Count points and datasets\n",
    "for coordinate in sorted(point_result_dict.keys()):\n",
    "    point_list = point_result_dict[coordinate]\n",
    "    dataset_set = set()\n",
    "    for point_dict in point_list:\n",
    "        if set(variable_names) < set(point_dict.keys()): # Only count results with all required variables\n",
    "            dataset_set.add(point_dict['file_path'])\n",
    "    print('A total of {} valid points were found near {} in {} datasets'.format(len(point_list), coordinate, len(dataset_set)))"
   ]
  },
  {
   "cell_type": "code",
   "execution_count": null,
   "metadata": {},
   "outputs": [],
   "source": [
    "# Print results in tab-delimited format\n",
    "field_list = ['search_coordinate', 'coordinate', 'distance'] + variable_names + ['survey_id', 'client', 'title']\n",
    "\n",
    "print '\\t'.join(field_list)\n",
    "for coordinate in sorted(point_result_dict.keys()):\n",
    "    point_list = point_result_dict[coordinate]\n",
    "    for point_dict in point_list[0:points_required]:\n",
    "        point_dict['search_coordinate'] = coordinate\n",
    "        if set(variable_names) < set(point_dict.keys()): # Only show results with all required variables\n",
    "            print('\\t'.join([str(point_dict.get(field)) \n",
    "                             for field in field_list]))"
   ]
  },
  {
   "cell_type": "code",
   "execution_count": null,
   "metadata": {
    "collapsed": true
   },
   "outputs": [],
   "source": []
  }
 ],
 "metadata": {
  "kernelspec": {
   "display_name": "Python [default]",
   "language": "python",
   "name": "python2"
  },
  "language_info": {
   "codemirror_mode": {
    "name": "ipython",
    "version": 2
   },
   "file_extension": ".py",
   "mimetype": "text/x-python",
   "name": "python",
   "nbconvert_exporter": "python",
   "pygments_lexer": "ipython2",
   "version": "2.7.14"
  }
 },
 "nbformat": 4,
 "nbformat_minor": 2
}
